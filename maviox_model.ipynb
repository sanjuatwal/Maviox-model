{
 "cells": [
  {
   "cell_type": "code",
   "execution_count": 84,
   "metadata": {},
   "outputs": [],
   "source": [
    "import pandas as pd\n",
    "import numpy as np\n",
    "from nltk.tokenize import word_tokenize\n",
    "from spacy.tokens import Span\n",
    "from spacy.lang.en import English\n",
    "from spacy.matcher import PhraseMatcher\n",
    "import random\n",
    "import spacy\n",
    "#!pip install -U spacy\n",
    "#!pip install -U spacy-lookups-data\n",
    "#!python -m spacy download en_core_web_md"
   ]
  },
  {
   "cell_type": "code",
   "execution_count": 85,
   "metadata": {},
   "outputs": [],
   "source": [
    "import en_core_web_md\n",
    "#nlp = en_core_web_md.load()\n",
    "nlp = spacy.blank(\"en\")"
   ]
  },
  {
   "cell_type": "code",
   "execution_count": 86,
   "metadata": {},
   "outputs": [],
   "source": [
    "ner = nlp.create_pipe(\"ner\")\n",
    "nlp.add_pipe(ner)"
   ]
  },
  {
   "cell_type": "code",
   "execution_count": 87,
   "metadata": {},
   "outputs": [],
   "source": [
    "data = pd.read_excel('sample_data_v4.xlsx')"
   ]
  },
  {
   "cell_type": "code",
   "execution_count": 88,
   "metadata": {},
   "outputs": [
    {
     "data": {
      "text/html": [
       "<div>\n",
       "<style scoped>\n",
       "    .dataframe tbody tr th:only-of-type {\n",
       "        vertical-align: middle;\n",
       "    }\n",
       "\n",
       "    .dataframe tbody tr th {\n",
       "        vertical-align: top;\n",
       "    }\n",
       "\n",
       "    .dataframe thead th {\n",
       "        text-align: right;\n",
       "    }\n",
       "</style>\n",
       "<table border=\"1\" class=\"dataframe\">\n",
       "  <thead>\n",
       "    <tr style=\"text-align: right;\">\n",
       "      <th></th>\n",
       "      <th>Application ID</th>\n",
       "      <th>Current City</th>\n",
       "      <th>Other skills</th>\n",
       "      <th>Institute</th>\n",
       "      <th>Degree</th>\n",
       "      <th>Stream</th>\n",
       "      <th>Current Year Of Graduation</th>\n",
       "      <th>Performance_PG</th>\n",
       "      <th>Performance_UG</th>\n",
       "      <th>Performance_12</th>\n",
       "      <th>Performance_10</th>\n",
       "    </tr>\n",
       "  </thead>\n",
       "  <tbody>\n",
       "    <tr>\n",
       "      <th>0</th>\n",
       "      <td>MS0001</td>\n",
       "      <td>Pune</td>\n",
       "      <td>Machine Learning, Python</td>\n",
       "      <td>Don Bosco Institute of Technology</td>\n",
       "      <td>Bachelor of Engineering (B.E)</td>\n",
       "      <td>Mechanical Engineering</td>\n",
       "      <td>2018</td>\n",
       "      <td>NaN</td>\n",
       "      <td>8.13/10</td>\n",
       "      <td>NaN</td>\n",
       "      <td>NaN</td>\n",
       "    </tr>\n",
       "    <tr>\n",
       "      <th>1</th>\n",
       "      <td>MS0002</td>\n",
       "      <td>Pune</td>\n",
       "      <td>Machine Learning, Python</td>\n",
       "      <td>PES MCOE, Pune</td>\n",
       "      <td>Bachelor of Engineering (B.E)</td>\n",
       "      <td>Electronics and Telecommunication Engineering ...</td>\n",
       "      <td>2018</td>\n",
       "      <td>NaN</td>\n",
       "      <td>66.00/100</td>\n",
       "      <td>NaN</td>\n",
       "      <td>NaN</td>\n",
       "    </tr>\n",
       "    <tr>\n",
       "      <th>2</th>\n",
       "      <td>MS0003</td>\n",
       "      <td>Navi Mumbai</td>\n",
       "      <td>Data Analytics, Data Science, Machine Learning...</td>\n",
       "      <td>Imarticus Learning</td>\n",
       "      <td>PG Diploma in Data Science</td>\n",
       "      <td>NaN</td>\n",
       "      <td>2020</td>\n",
       "      <td>NaN</td>\n",
       "      <td>7.00/10</td>\n",
       "      <td>NaN</td>\n",
       "      <td>NaN</td>\n",
       "    </tr>\n",
       "    <tr>\n",
       "      <th>3</th>\n",
       "      <td>MS0004</td>\n",
       "      <td>Bangalore</td>\n",
       "      <td>Data Analytics, Algorithms, C Programming, Dat...</td>\n",
       "      <td>Dayananda Sagar Institutions</td>\n",
       "      <td>Bachelor of Technology (B.Tech)</td>\n",
       "      <td>Information Technology</td>\n",
       "      <td>2022</td>\n",
       "      <td>NaN</td>\n",
       "      <td>NaN</td>\n",
       "      <td>86.80/86.80</td>\n",
       "      <td>10.00/10.00</td>\n",
       "    </tr>\n",
       "    <tr>\n",
       "      <th>4</th>\n",
       "      <td>MS0005</td>\n",
       "      <td>Mumbai</td>\n",
       "      <td>Artifical Intelligence, Computer Vision, Deep ...</td>\n",
       "      <td>Pillai Hoc College Of Engineering And Technolo...</td>\n",
       "      <td>Bachelor of Engineering (B.E)</td>\n",
       "      <td>Information Technology</td>\n",
       "      <td>2020</td>\n",
       "      <td>NaN</td>\n",
       "      <td>6.22/10</td>\n",
       "      <td>NaN</td>\n",
       "      <td>NaN</td>\n",
       "    </tr>\n",
       "  </tbody>\n",
       "</table>\n",
       "</div>"
      ],
      "text/plain": [
       "  Application ID Current City  \\\n",
       "0         MS0001         Pune   \n",
       "1         MS0002         Pune   \n",
       "2         MS0003  Navi Mumbai   \n",
       "3         MS0004    Bangalore   \n",
       "4         MS0005       Mumbai   \n",
       "\n",
       "                                        Other skills  \\\n",
       "0                           Machine Learning, Python   \n",
       "1                           Machine Learning, Python   \n",
       "2  Data Analytics, Data Science, Machine Learning...   \n",
       "3  Data Analytics, Algorithms, C Programming, Dat...   \n",
       "4  Artifical Intelligence, Computer Vision, Deep ...   \n",
       "\n",
       "                                           Institute  \\\n",
       "0                  Don Bosco Institute of Technology   \n",
       "1                                     PES MCOE, Pune   \n",
       "2                                 Imarticus Learning   \n",
       "3                       Dayananda Sagar Institutions   \n",
       "4  Pillai Hoc College Of Engineering And Technolo...   \n",
       "\n",
       "                            Degree  \\\n",
       "0    Bachelor of Engineering (B.E)   \n",
       "1    Bachelor of Engineering (B.E)   \n",
       "2       PG Diploma in Data Science   \n",
       "3  Bachelor of Technology (B.Tech)   \n",
       "4    Bachelor of Engineering (B.E)   \n",
       "\n",
       "                                              Stream  \\\n",
       "0                             Mechanical Engineering   \n",
       "1  Electronics and Telecommunication Engineering ...   \n",
       "2                                                NaN   \n",
       "3                             Information Technology   \n",
       "4                             Information Technology   \n",
       "\n",
       "   Current Year Of Graduation Performance_PG Performance_UG Performance_12  \\\n",
       "0                        2018            NaN        8.13/10            NaN   \n",
       "1                        2018            NaN      66.00/100            NaN   \n",
       "2                        2020            NaN        7.00/10            NaN   \n",
       "3                        2022            NaN            NaN    86.80/86.80   \n",
       "4                        2020            NaN        6.22/10            NaN   \n",
       "\n",
       "  Performance_10  \n",
       "0            NaN  \n",
       "1            NaN  \n",
       "2            NaN  \n",
       "3    10.00/10.00  \n",
       "4            NaN  "
      ]
     },
     "execution_count": 88,
     "metadata": {},
     "output_type": "execute_result"
    }
   ],
   "source": [
    "data.head()"
   ]
  },
  {
   "cell_type": "code",
   "execution_count": 89,
   "metadata": {},
   "outputs": [
    {
     "name": "stderr",
     "output_type": "stream",
     "text": [
      "/home/sanju/anaconda3/lib/python3.7/site-packages/ipykernel_launcher.py:2: SettingWithCopyWarning: \n",
      "A value is trying to be set on a copy of a slice from a DataFrame\n",
      "\n",
      "See the caveats in the documentation: http://pandas.pydata.org/pandas-docs/stable/indexing.html#indexing-view-versus-copy\n",
      "  \n"
     ]
    }
   ],
   "source": [
    "skills = data[['Application ID', 'Other skills']]\n",
    "skills.dropna(inplace=True)\n",
    "skills = skills.reset_index(drop=True)"
   ]
  },
  {
   "cell_type": "code",
   "execution_count": 90,
   "metadata": {},
   "outputs": [],
   "source": [
    "Web_Developer = ['HTML', 'CSS', 'Bootstrap', 'AJAX', 'JavaScript', 'PHP', 'MySQL', 'REST API', 'AWS/GCP', 'Git/GitHub', 'Python', 'Linux', 'JSON', 'Authentication/Authorization (JWT)']\n",
    "FullStack_Developer =  ['HTML', 'CSS', 'MongoDB', 'Express', 'React.js', 'Node.js', 'ES6', 'Redux', 'JavaScript', 'AWS/GCP', 'Python', 'Linux', 'JSON', 'Authentication/Authorization (JWT)']\n",
    "ML_Developer =  ['Python', 'TensorFlow', 'PyTorch', 'NumPy', 'PyPI', 'Scikit learn', 'Statistical Modelling', 'Machine Learning', 'Deep Learning', 'SQL', 'JSON', 'AWS/GCP/Heroku', 'Flask']\n",
    "\n",
    "ML_Developer_skills = {'python': ['python', 'PyPI'], 'data science': ['numpy', 'scikit learn', 'data science', 'data analytics'], 'machine learning': ['machine learning', 'statistical modelling', 'artificial intelligence', 'nlp'], 'deep learning': ['deep learning', 'neural networks', 'cnn', 'rnn', 'tensorflow', 'pytorch', 'keras'], 'sql': ['mysql', 'sql', 'dbms'], 'json':['json'], 'cloud': ['aws', 'gcp', 'google cloud platform', 'google cloud services', 'heroku'], 'flask': ['flask']}\n",
    "\n",
    "FullStack_Developer_skills = {'html': ['html'], 'css': ['css'], 'mongodb': ['mongodb'], 'express': ['express'], 'react': ['react.js'], 'node': ['node.js'], 'javascript': ['es6', 'javascipt'], 'cloud': ['aws', 'gcp', 'google cloud platform', 'google cloud services'], 'python': ['python'], 'linux': ['linux'], 'json': ['json'], 'security':['authorization', 'authentication', 'jwt', 'web application security']}\n",
    "\n",
    "Web_Developer_skills = {'html': ['html'], 'css': ['css'], 'bootstrap': ['bootstrap'], 'ajax': ['ajax'], 'javascript': ['javascript'], 'php': ['php'], 'sql': ['mysql', 'sql', 'dbms'], 'rest api': ['rest api'], 'cloud': ['aws', 'gcp', 'google cloud platform', 'google cloud services'], 'git': ['git', 'github'], 'python': ['python'], 'linux':['linux'], 'json':['json'], 'security':['authorization', 'authentication', 'jwt', 'web application security']}\n",
    "\n",
    "total_skills = {'python': ['python', 'PyPI'], 'data science': ['numpy', 'sci-kit learn', 'data science', 'data analytics'], 'machine learning': ['machine learning', 'statistical modelling', 'artificial intelligence', 'nlp'], 'deep learning': ['deep learning', 'neural networks', 'cnn', 'rnn', 'tensorflow', 'pytorch', 'keras'], 'database': ['mysql', 'sql', 'dbms', 'mongodb'], 'json':['json'], 'cloud': ['aws', 'gcp', 'google cloud platform', 'google cloud services', 'heroku'], 'flask': ['flask'], 'html': ['html'], 'css': ['css'], 'bootstrap': ['bootstrap'], 'ajax': ['ajax'], 'javascript': ['es6', 'javascipt'], 'php': ['php'], 'rest api': ['rest api'], 'git': ['git', 'github'], 'linux':['linux'], 'security': ['authorization', 'authentication', 'jwt', 'web application security'], 'express': ['express'], 'react': ['react.js'], 'node': ['node.js']}\n"
   ]
  },
  {
   "cell_type": "code",
   "execution_count": 91,
   "metadata": {},
   "outputs": [],
   "source": [
    "ML_Developer_lower = []\n",
    "for item in ML_Developer:\n",
    "    ML_Developer_lower.append(item.lower())\n",
    "    \n",
    "FullStack_Developer_lower = []\n",
    "for item in FullStack_Developer:\n",
    "    FullStack_Developer_lower.append(item.lower())\n",
    "    \n",
    "Web_Developer_lower = []\n",
    "for item in Web_Developer:\n",
    "    Web_Developer_lower.append(item.lower())"
   ]
  },
  {
   "cell_type": "code",
   "execution_count": 92,
   "metadata": {},
   "outputs": [
    {
     "data": {
      "text/plain": [
       "['python',\n",
       " 'tensorflow',\n",
       " 'pytorch',\n",
       " 'numpy',\n",
       " 'pypi',\n",
       " 'scikit learn',\n",
       " 'statistical modelling',\n",
       " 'machine learning',\n",
       " 'deep learning',\n",
       " 'sql',\n",
       " 'json',\n",
       " 'aws/gcp/heroku',\n",
       " 'flask']"
      ]
     },
     "execution_count": 92,
     "metadata": {},
     "output_type": "execute_result"
    }
   ],
   "source": [
    "ML_Developer_lower"
   ]
  },
  {
   "cell_type": "code",
   "execution_count": 93,
   "metadata": {},
   "outputs": [],
   "source": [
    "skilled = []\n",
    "for item in skills['Other skills']:\n",
    "    skilled.append(item.lower())"
   ]
  },
  {
   "cell_type": "code",
   "execution_count": 94,
   "metadata": {},
   "outputs": [
    {
     "data": {
      "text/plain": [
       "{'ajax': ['ajax'],\n",
       " 'bootstrap': ['bootstrap'],\n",
       " 'cloud': ['aws',\n",
       "  'gcp',\n",
       "  'google cloud platform',\n",
       "  'google cloud services',\n",
       "  'heroku'],\n",
       " 'css': ['css'],\n",
       " 'data science': ['numpy', 'sci-kit learn', 'data science', 'data analytics'],\n",
       " 'database': ['mysql', 'sql', 'dbms', 'mongodb'],\n",
       " 'deep learning': ['deep learning',\n",
       "  'neural networks',\n",
       "  'cnn',\n",
       "  'rnn',\n",
       "  'tensorflow',\n",
       "  'pytorch',\n",
       "  'keras'],\n",
       " 'express': ['express'],\n",
       " 'flask': ['flask'],\n",
       " 'git': ['git', 'github'],\n",
       " 'html': ['html'],\n",
       " 'javascript': ['es6', 'javascipt'],\n",
       " 'json': ['json'],\n",
       " 'linux': ['linux'],\n",
       " 'machine learning': ['machine learning',\n",
       "  'statistical modelling',\n",
       "  'artificial intelligence',\n",
       "  'nlp'],\n",
       " 'node': ['node.js'],\n",
       " 'php': ['php'],\n",
       " 'python': ['python', 'PyPI'],\n",
       " 'react': ['react.js'],\n",
       " 'rest api': ['rest api'],\n",
       " 'security': ['authorization',\n",
       "  'authentication',\n",
       "  'jwt',\n",
       "  'web application security']}"
      ]
     },
     "execution_count": 94,
     "metadata": {},
     "output_type": "execute_result"
    }
   ],
   "source": [
    "total_skills"
   ]
  },
  {
   "cell_type": "code",
   "execution_count": 95,
   "metadata": {},
   "outputs": [],
   "source": [
    "ner.add_label(\"SKILLS\")"
   ]
  },
  {
   "cell_type": "code",
   "execution_count": 96,
   "metadata": {},
   "outputs": [
    {
     "data": {
      "text/plain": [
       "<thinc.neural.optimizers.Optimizer at 0x7fc85e942c50>"
      ]
     },
     "execution_count": 96,
     "metadata": {},
     "output_type": "execute_result"
    }
   ],
   "source": [
    "nlp.begin_training()"
   ]
  },
  {
   "cell_type": "code",
   "execution_count": null,
   "metadata": {},
   "outputs": [],
   "source": []
  },
  {
   "cell_type": "markdown",
   "metadata": {},
   "source": [
    "## Preparing item for phrase matcher"
   ]
  },
  {
   "cell_type": "code",
   "execution_count": 97,
   "metadata": {},
   "outputs": [],
   "source": [
    "matcher = PhraseMatcher(nlp.vocab)\n",
    "\n",
    "ajax_words = [nlp(text) for text in total_skills['ajax']]\n",
    "bootstrap_words = [nlp(text) for text in total_skills['bootstrap']]\n",
    "cloud_words = [nlp(text) for text in total_skills['cloud']]\n",
    "css_words = [nlp(text) for text in total_skills['css']]\n",
    "data_science_words = [nlp(text) for text in total_skills['data science']]\n",
    "data_base_words = [nlp(text) for text in total_skills['database']]\n",
    "deep_learning_words = [nlp(text) for text in total_skills['deep learning']]\n",
    "express_words = [nlp(text) for text in total_skills['express']]\n",
    "flask_words = [nlp(text) for text in total_skills['flask']]\n",
    "git_words = [nlp(text) for text in total_skills['git']]\n",
    "html_words = [nlp(text) for text in total_skills['html']]\n",
    "javascript_words = [nlp(text) for text in total_skills['javascript']]\n",
    "json_words = [nlp(text) for text in total_skills['json']]\n",
    "linux_words = [nlp(text) for text in total_skills['linux']]\n",
    "ML_words = [nlp(text) for text in total_skills['machine learning']]\n",
    "node_words = [nlp(text) for text in total_skills['node']]\n",
    "php_words = [nlp(text) for text in total_skills['php']]\n",
    "python_words = [nlp(text) for text in total_skills['python']]\n",
    "react_words = [nlp(text) for text in total_skills['react']]\n",
    "rest_words = [nlp(text) for text in total_skills['rest api']]\n",
    "security_words = [nlp(text) for text in total_skills['security']]\n",
    "\n",
    "\n",
    "matcher.add('skills', None, *ajax_words, *bootstrap_words, *cloud_words, *css_words, *data_science_words, *data_base_words, *deep_learning_words, *express_words, *flask_words, *git_words, *html_words, *javascript_words, *json_words, *linux_words, *ML_words, *node_words, *php_words, *python_words, *react_words, *rest_words, *security_words)"
   ]
  },
  {
   "cell_type": "markdown",
   "metadata": {},
   "source": [
    "## Preparing training data"
   ]
  },
  {
   "cell_type": "code",
   "execution_count": 99,
   "metadata": {},
   "outputs": [],
   "source": [
    "TRAINING_DATA = []\n",
    "for doc in nlp.pipe(skilled):\n",
    "    spans = [doc[start:end] for match_id, start, end in matcher(doc)]\n",
    "    entities = [(span.start_char, span.end_char, \"SKILLS\") for span in spans]\n",
    "    training_example = (doc.text, {\"entities\": entities})\n",
    "    TRAINING_DATA.append(training_example)"
   ]
  },
  {
   "cell_type": "markdown",
   "metadata": {},
   "source": [
    "## Training"
   ]
  },
  {
   "cell_type": "code",
   "execution_count": 101,
   "metadata": {},
   "outputs": [
    {
     "name": "stdout",
     "output_type": "stream",
     "text": [
      "{'ner': 470.1856217024396}\n",
      "{'ner': 40.069377532307676}\n",
      "{'ner': 121.44989229618757}\n",
      "{'ner': 3.8353117700222277}\n",
      "{'ner': 7.399217507984155}\n",
      "{'ner': 8.7622843464036}\n",
      "{'ner': 35.95785788404238}\n",
      "{'ner': 9.37265881189307}\n",
      "{'ner': 25.236051111792}\n"
     ]
    }
   ],
   "source": [
    "for itn in range(9):\n",
    "    # Shuffle the training data\n",
    "    random.shuffle(TRAINING_DATA)\n",
    "    losses = {}\n",
    "\n",
    "    # Batch the examples and iterate over them\n",
    "    for batch in spacy.util.minibatch(TRAINING_DATA, size=2):\n",
    "        texts = [text for text, entities in batch]\n",
    "        annotations = [entities for text, entities in batch]\n",
    "\n",
    "        # Update the model\n",
    "        nlp.update(texts, annotations, losses=losses)\n",
    "    print(losses)"
   ]
  },
  {
   "cell_type": "markdown",
   "metadata": {},
   "source": [
    "## TESTING"
   ]
  },
  {
   "cell_type": "code",
   "execution_count": 103,
   "metadata": {},
   "outputs": [],
   "source": [
    "doc = nlp(('Python, TensorFlow, PyTorch, numpy, PyPI, scikit learn, Statistical Modelling, Machine Learning, Deep Learning, SQL, JSON, AWS/GCP/Heroku, Flask, data science').lower())"
   ]
  },
  {
   "cell_type": "code",
   "execution_count": 105,
   "metadata": {},
   "outputs": [],
   "source": [
    "nlp_output = [(ent.text) for ent in doc.ents]"
   ]
  },
  {
   "cell_type": "code",
   "execution_count": 107,
   "metadata": {},
   "outputs": [],
   "source": [
    "output_skills_ML = []\n",
    "output_skills_FS = []\n",
    "output_skills_WD = []\n",
    "\n",
    "for key, val in ML_Developer_skills.items():\n",
    "    for item in nlp_output:\n",
    "        if item in val:\n",
    "            output_skills_ML.append(key)\n",
    "\n",
    "for key, val in FullStack_Developer_skills.items():\n",
    "    for item in nlp_output:\n",
    "        if item in val:\n",
    "            output_skills_FS.append(key)\n",
    "            \n",
    "for key, val in Web_Developer_skills.items():\n",
    "    for item in nlp_output:\n",
    "        if item in val:\n",
    "            output_skills_WD.append(key)"
   ]
  },
  {
   "cell_type": "code",
   "execution_count": 114,
   "metadata": {},
   "outputs": [],
   "source": [
    "ML_set = set(ML_Developer_skills.keys()) - set(output_skills_ML)\n",
    "FS_set = set(FullStack_Developer_skills.keys()) - set(output_skills_FS)\n",
    "WD_set = set(Web_Developer_skills.keys()) - set(output_skills_WD)"
   ]
  },
  {
   "cell_type": "code",
   "execution_count": 118,
   "metadata": {},
   "outputs": [
    {
     "name": "stdout",
     "output_type": "stream",
     "text": [
      "Congratulations! your resume has been selected for ML developer.\n",
      "In order to be hired as a Full stack Developer, you need to learn these skills: \n",
      "css\n",
      "express\n",
      "es6\n",
      "mongodb\n",
      "html\n",
      "linux\n",
      "node.js\n",
      "react.js\n",
      "In order to be hired as a Web Developer, you need to learn these skills: \n",
      "css\n",
      "rest api\n",
      "javascript\n",
      "html\n",
      "linux\n",
      "php\n",
      "ajax\n",
      "bootstrap\n"
     ]
    }
   ],
   "source": [
    "if len(ML_set) == 0:\n",
    "    print('Congratulations! your resume has been selected for ML developer.')\n",
    "else:\n",
    "    print('In order to be hired as a ML Developer, you need to learn these skills: ')\n",
    "    for item in ML_set:\n",
    "        for i in ML_Developer_skills[item]:\n",
    "            if i in ML_Developer_lower:\n",
    "                print(i)\n",
    "print('\\n')\n",
    "if len(FS_set) == 0:\n",
    "    print('Congratulations! your resume has been selected for Full Stack developer.')\n",
    "else:\n",
    "    print('In order to be hired as a Full stack Developer, you need to learn these skills: ')\n",
    "    for item in FS_set:\n",
    "        for i in FullStack_Developer_skills[item]:\n",
    "            if i in FullStack_Developer_lower:\n",
    "                print(i)\n",
    "                   \n",
    "if len(FS_set) == 0:\n",
    "    print('Congratulations! your resume has been selected for Web developer.')\n",
    "else:\n",
    "    print('In order to be hired as a Web Developer, you need to learn these skills: ')\n",
    "    for item in WD_set:\n",
    "        for i in Web_Developer_skills[item]:\n",
    "            if i in Web_Developer_lower:\n",
    "                print(i)"
   ]
  },
  {
   "cell_type": "code",
   "execution_count": null,
   "metadata": {},
   "outputs": [],
   "source": []
  },
  {
   "cell_type": "code",
   "execution_count": null,
   "metadata": {},
   "outputs": [],
   "source": []
  }
 ],
 "metadata": {
  "kernelspec": {
   "display_name": "Python 3",
   "language": "python",
   "name": "python3"
  },
  "language_info": {
   "codemirror_mode": {
    "name": "ipython",
    "version": 3
   },
   "file_extension": ".py",
   "mimetype": "text/x-python",
   "name": "python",
   "nbconvert_exporter": "python",
   "pygments_lexer": "ipython3",
   "version": "3.7.6"
  }
 },
 "nbformat": 4,
 "nbformat_minor": 4
}
